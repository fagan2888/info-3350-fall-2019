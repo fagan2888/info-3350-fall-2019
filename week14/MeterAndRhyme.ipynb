{
 "cells": [
  {
   "cell_type": "markdown",
   "metadata": {},
   "source": [
    "# Meter and Rhyme\n",
    "\n",
    "For our last week, we're going to focus on poetry. Today we'll work with specific poems to get a sense of how well we can analyze characteristics like rhyme and meter. On Friday we will take a more macro view and consider a large collection of poems.\n",
    "\n",
    "**If you are doing a project instead of the final, you must present a 5-minute work-in-progress presentation in the Friday after-class session or make a separate arrangement with course staff.**\n",
    "\n",
    "To help us analyze the *sound* of language, we'll use the `pronouncing` package by [Allison Parrish](https://www.decontextualize.com/), a professor at NYU. This package is a wrapper around the [CMU Pronouncing Dictionary](http://www.speech.cs.cmu.edu/cgi-bin/cmudict).\n",
    "\n",
    "**Meter review.** The metrical structure of a line of poetry, even just English-language poetry, is really complicated, and there is basically nothing that is universally agreed upon. But a common formalism is that a line of metrical poetry is divided into *feet*, which have a specific stress pattern. The most common is the *iamb* (duh-DAH, or in metrical notation ⏑/). Five iambs in a line makes *iambic pentameter*. Other common feet include the dactyl (/⏑⏑), anapest (⏑⏑/), and trochee (/⏑)."
   ]
  },
  {
   "cell_type": "code",
   "execution_count": null,
   "metadata": {},
   "outputs": [],
   "source": [
    "import pronouncing"
   ]
  },
  {
   "cell_type": "markdown",
   "metadata": {},
   "source": [
    "If you don't have the `pronouncing` library (you almost certainly don't), try this next cell. If you do have it, you don't need to run this."
   ]
  },
  {
   "cell_type": "code",
   "execution_count": null,
   "metadata": {},
   "outputs": [],
   "source": [
    "!pip install pronouncing"
   ]
  },
  {
   "cell_type": "code",
   "execution_count": null,
   "metadata": {},
   "outputs": [],
   "source": [
    "import re"
   ]
  },
  {
   "cell_type": "markdown",
   "metadata": {},
   "source": [
    "Here are several poems, mostly from text on the [Poetry Foundation](https://www.poetryfoundation.org/poems)."
   ]
  },
  {
   "cell_type": "markdown",
   "metadata": {},
   "source": [
    "Shakespeare, Sonnet 2"
   ]
  },
  {
   "cell_type": "code",
   "execution_count": null,
   "metadata": {},
   "outputs": [],
   "source": [
    "shakespeare = \"\"\"When forty winters shall besiege thy brow,\n",
    "And dig deep trenches in thy beauty's field,\n",
    "Thy youth's proud livery so gazed on now,\n",
    "Will be a tatter'd weed of small worth held: \n",
    "Then being asked, where all thy beauty lies,\n",
    "Where all the treasure of thy lusty days; \n",
    "To say, within thine own deep sunken eyes,\n",
    "Were an all-eating shame, and thriftless praise.\n",
    "How much more praise deserv'd thy beauty's use,\n",
    "If thou couldst answer 'This fair child of mine\n",
    "Shall sum my count, and make my old excuse,'\n",
    "Proving his beauty by succession thine!\n",
    "  This were to be new made when thou art old,\n",
    "  And see thy blood warm when thou feel'st it cold.\"\"\""
   ]
  },
  {
   "cell_type": "markdown",
   "metadata": {},
   "source": [
    "Emily Dickinson, *Hope is a thing with feathers* (314)"
   ]
  },
  {
   "cell_type": "code",
   "execution_count": null,
   "metadata": {},
   "outputs": [],
   "source": [
    "dickinson = \"\"\"Hope is the thing with feathers -\n",
    "That perches in the soul -\n",
    "And sings the tune without the words -\n",
    "And never stops - at all -\n",
    "And sweetest - in the Gale - is heard -\n",
    "And sore must be the storm -\n",
    "That could abash the little Bird\n",
    "That kept so many warm -\n",
    "I’ve heard it in the chillest land -\n",
    "And on the strangest Sea -\n",
    "Yet - never - in Extremity,\n",
    "It asked a crumb - of me.\"\"\""
   ]
  },
  {
   "cell_type": "markdown",
   "metadata": {},
   "source": [
    "A. E. Housman, *Terrence, this is stupid stuff* (*A Shropshire Lad*, LXII)"
   ]
  },
  {
   "cell_type": "code",
   "execution_count": null,
   "metadata": {},
   "outputs": [],
   "source": [
    "housman = \"\"\"Oh I have been to Ludlow fair\n",
    "And left my necktie God knows where,\n",
    "And carried half way home, or near,\n",
    "Pints and quarts of Ludlow beer:\n",
    "Then the world seemed none so bad,\n",
    "And I myself a sterling lad;\n",
    "And down in lovely muck I’ve lain,\n",
    "Happy till I woke again.\n",
    "Then I saw the morning sky:\n",
    "Heigho, the tale was all a lie;\n",
    "The world, it was the old world yet,\n",
    "I was I, my things were wet,\n",
    "And nothing now remained to do\n",
    "But begin the game anew.\"\"\""
   ]
  },
  {
   "cell_type": "markdown",
   "metadata": {},
   "source": [
    "Longfellow, *Evangenline*. This is in Dactylic Hexameter, an ancient meter used by Homer, but uncommon in English. Each of six feet can be a dactyl (/⏑⏑) or a spondee (//), except the last two, which must be a dactyl and then a spondee."
   ]
  },
  {
   "cell_type": "code",
   "execution_count": null,
   "metadata": {},
   "outputs": [],
   "source": [
    "evangeline = \"\"\"This is the forest primeval. The murmuring pines and the hemlock,\n",
    "Bearded with moss, and in garments green, indistinct in the twilight,\n",
    "Stand like Druids of eld, with voices sad and prophetic,\n",
    "Stand like harpers hoar, with beards that rest on their bosoms.\"\"\""
   ]
  },
  {
   "cell_type": "markdown",
   "metadata": {},
   "source": [
    "Countee Cullen, *Threnody for a brown girl*."
   ]
  },
  {
   "cell_type": "code",
   "execution_count": null,
   "metadata": {},
   "outputs": [],
   "source": [
    "cullen = \"\"\"She is nearer than the word\n",
    "Wasted on her now,\n",
    "Nearer than the swaying bird\n",
    "On its rhythmic bough.\n",
    "Only were our faith as much\n",
    "As a mustard seed,\n",
    "Aching hungry hands might touch\n",
    "Her as they touch a reed.\"\"\""
   ]
  },
  {
   "cell_type": "markdown",
   "metadata": {},
   "source": [
    "Robert Frost, *Stopping by woods on a snowy evening*."
   ]
  },
  {
   "cell_type": "code",
   "execution_count": null,
   "metadata": {},
   "outputs": [],
   "source": [
    "frost = \"\"\"Whose woods these are I think I know.   \n",
    "His house is in the village though;   \n",
    "He will not see me stopping here   \n",
    "To watch his woods fill up with snow.   \n",
    "My little horse must think it queer   \n",
    "To stop without a farmhouse near   \n",
    "Between the woods and frozen lake   \n",
    "The darkest evening of the year.   \n",
    "He gives his harness bells a shake   \n",
    "To ask if there is some mistake.   \n",
    "The only other sound’s the sweep   \n",
    "Of easy wind and downy flake.\n",
    "The woods are lovely, dark and deep,   \n",
    "But I have promises to keep,   \n",
    "And miles to go before I sleep,   \n",
    "And miles to go before I sleep.\"\"\""
   ]
  },
  {
   "cell_type": "markdown",
   "metadata": {},
   "source": [
    "Clement Moore, *A visit from St. Nicholas* (Anapestic tetrameter, maybe?)"
   ]
  },
  {
   "cell_type": "code",
   "execution_count": null,
   "metadata": {},
   "outputs": [],
   "source": [
    "visit = \"\"\"His eyes how they twinkled! his dimples, how merry!\n",
    "His cheeks were like roses, his nose like a cherry!\n",
    "His droll little mouth was drawn up like a bow,\n",
    "And the beard on his chin was as white as the snow;\n",
    "The stump of a pipe he held tight in his teeth,\n",
    "And the smoke, it encircled his head like a wreath;\n",
    "He had a broad face and a little round belly\n",
    "That shook when he laughed, like a bowl full of jelly.\"\"\""
   ]
  },
  {
   "cell_type": "markdown",
   "metadata": {},
   "source": [
    "Drake, *God's Plan*"
   ]
  },
  {
   "cell_type": "code",
   "execution_count": null,
   "metadata": {},
   "outputs": [],
   "source": [
    "drake = \"\"\"I been movin' calm, don't start no trouble with me\n",
    "Tryna keep it peaceful is a struggle for me\n",
    "Don't pull up at 6 AM to cuddle with me\n",
    "You know how I like it when you lovin' on me\n",
    "I don't wanna die for them to miss me\n",
    "Yes, I see the things that they wishin' on me\n",
    "Hope I got some brothers that outlive me\n",
    "They gon' tell the story, shit was different with me\"\"\""
   ]
  },
  {
   "cell_type": "markdown",
   "metadata": {},
   "source": [
    "Sylvia Plath, *Blackberrying*"
   ]
  },
  {
   "cell_type": "code",
   "execution_count": null,
   "metadata": {},
   "outputs": [],
   "source": [
    "plath = \"\"\"Nobody in the lane, and nothing, nothing but blackberries,   \n",
    "Blackberries on either side, though on the right mainly,\n",
    "A blackberry alley, going down in hooks, and a sea\n",
    "Somewhere at the end of it, heaving. Blackberries\n",
    "Big as the ball of my thumb, and dumb as eyes\n",
    "Ebon in the hedges, fat\n",
    "With blue-red juices. These they squander on my fingers.\n",
    "I had not asked for such a blood sisterhood; they must love me.\n",
    "They accommodate themselves to my milkbottle, flattening their sides.\"\"\""
   ]
  },
  {
   "cell_type": "markdown",
   "metadata": {},
   "source": [
    "### Part 1: meter\n",
    "\n",
    "The pronouncing dictionary gives us phonetic transcriptions with stress patterns. We can extract these and concatenate them. `1` is primary stress, `0` is unstressed, `2` is secondary stress.\n",
    "\n",
    "1. Write the stress pattern for iambic pentameter as a string of 0s and 1s.\n",
    "\n",
    "[Answer here]\n",
    "\n",
    "2. Modify the `word_stress` function to handle out-of-vocabulary words.\n",
    "\n",
    "[Answer in cell below]\n",
    "\n",
    "3. Apply the `scan` function to several of the poems. This function attempts to remove punctuation. Make any changes that you feel are needed, and describe them here.\n",
    "\n",
    "[Describe any punctuation issues and how you fixed them (or couldn't) here]\n",
    "\n",
    "4. Does concatenating the stress patterns of each word give us the right output? If not, why is this problem hard? Cite examples.\n",
    "\n",
    "[Answer here]"
   ]
  },
  {
   "cell_type": "code",
   "execution_count": null,
   "metadata": {
    "scrolled": true
   },
   "outputs": [],
   "source": [
    "pronouncing.phones_for_word(\"melancholy\")"
   ]
  },
  {
   "cell_type": "code",
   "execution_count": null,
   "metadata": {},
   "outputs": [],
   "source": [
    "pronouncing.phones_for_word(\"address\")"
   ]
  },
  {
   "cell_type": "code",
   "execution_count": null,
   "metadata": {},
   "outputs": [],
   "source": [
    "[ pronouncing.stresses(phones) for phones in pronouncing.phones_for_word(\"melancholy\") ]"
   ]
  },
  {
   "cell_type": "code",
   "execution_count": null,
   "metadata": {
    "scrolled": true
   },
   "outputs": [],
   "source": [
    "[ pronouncing.stresses(phones) for phones in pronouncing.phones_for_word(\"address\") ]"
   ]
  },
  {
   "cell_type": "code",
   "execution_count": null,
   "metadata": {},
   "outputs": [],
   "source": [
    "## Some regular expressions. Remember that a-z means all\n",
    "##  characters from a to z.\n",
    "punctuation_pattern = re.compile(r\"[\\.\\?;,\\!\\\"\\:\\']\")\n",
    "vowel_pattern = re.compile(\"[aeiouy]+\")\n",
    "\n",
    "def word_stress(w):\n",
    "    phones = pronouncing.phones_for_word(w)\n",
    "    if len(phones) > 0:\n",
    "        return pronouncing.stresses(phones[0])\n",
    "    else:\n",
    "        print(\"unknown: \", w)\n",
    "        ## count the number of vowel clusters and \n",
    "        ## return a string with one question mark per cluster.\n",
    "\n",
    "def line_stress(line):\n",
    "    tokens = line.split()\n",
    "    stresses = [ word_stress(w) for w in tokens]\n",
    "    return \"\".join(stresses)\n",
    "\n",
    "def scan(poem):\n",
    "    poem = punctuation_pattern.sub(\"\", poem).split(\"\\n\")\n",
    "    for line in poem:\n",
    "        print(line_stress(line))"
   ]
  },
  {
   "cell_type": "markdown",
   "metadata": {},
   "source": [
    "### Part 2: Rhyme\n",
    "\n",
    "The rhyming part of a word comes after the primary stress.\n",
    "\n",
    "1. Finish the function `line_rhyme` to return the list of possible rhyming sequences for the given line.\n",
    "\n",
    "[Answer in code]\n",
    "\n",
    "2. Apply the `rhymes` function to several of the supplied poems.\n",
    "\n",
    "[Show executed cells]\n",
    "\n",
    "3. Could you write a program that would automatically identify the rhyme scheme (ie ABBA, etc) for a poem? Specifically consider the Shakespeare sonnet. What would make this poem hard or easy?\n",
    "\n",
    "[Answer here."
   ]
  },
  {
   "cell_type": "code",
   "execution_count": null,
   "metadata": {},
   "outputs": [],
   "source": [
    "[ pronouncing.rhyming_part(phones) for phones in pronouncing.phones_for_word(\"melancholy\") ]"
   ]
  },
  {
   "cell_type": "code",
   "execution_count": null,
   "metadata": {},
   "outputs": [],
   "source": [
    "[ pronouncing.rhyming_part(phones) for phones in pronouncing.phones_for_word(\"elite\") ]"
   ]
  },
  {
   "cell_type": "code",
   "execution_count": null,
   "metadata": {},
   "outputs": [],
   "source": [
    "[ pronouncing.rhyming_part(phones) for phones in pronouncing.phones_for_word(\"complete\") ]"
   ]
  },
  {
   "cell_type": "code",
   "execution_count": null,
   "metadata": {},
   "outputs": [],
   "source": [
    "def line_rhyme(line):\n",
    "    ## Add content here\n",
    "\n",
    "def rhymes(poem):\n",
    "    poem = punctuation_pattern.sub(\"\", poem).split(\"\\n\")\n",
    "    for line in poem:\n",
    "        print(line_rhyme(line))"
   ]
  },
  {
   "cell_type": "markdown",
   "metadata": {},
   "source": [
    "### Part 3: Your poem\n",
    "\n",
    "Find a poem that you like, and use the tools in this notebook to analyze it. Comment on your results.\n",
    "\n",
    "[Show executed cells and answer here]"
   ]
  }
 ],
 "metadata": {
  "kernelspec": {
   "display_name": "Python 3",
   "language": "python",
   "name": "python3"
  },
  "language_info": {
   "codemirror_mode": {
    "name": "ipython",
    "version": 3
   },
   "file_extension": ".py",
   "mimetype": "text/x-python",
   "name": "python",
   "nbconvert_exporter": "python",
   "pygments_lexer": "ipython3",
   "version": "3.6.9"
  }
 },
 "nbformat": 4,
 "nbformat_minor": 2
}
