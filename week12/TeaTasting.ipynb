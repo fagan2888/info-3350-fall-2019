{
 "cells": [
  {
   "cell_type": "markdown",
   "metadata": {},
   "source": [
    "# Permutation tests\n",
    "\n",
    "Goal: We often want to make arguments that variables are related. For example, we might want to argue that one author uses a word more often than another, or that 19th C novels use longer sentences than 20th century novels. But with finite and often small samples, we could find patterns that are really just random chance. How do we tell whether two variables are actually related, or if there is only chance similarity?\n",
    "\n",
    "The key question is: what would I observe if there were no connection between the two variables? An experiment is *statistically* convincing if the pattern I saw is sufficiently unlikely by random chance. But what do \"unlikely\" and \"sufficiently\" mean?\n",
    "\n",
    "We'll start by replicating the \"Tea Tasting\" experiment from R.A. Fisher's book \"The Design of Experiments\" (1935). Here the two variables are (1) whether milk was added to a cup before or after the tea and (2) whether a taster says the milk was added before or after.\n",
    "\n",
    "The \"lady\" was Dr. Muriel Bristol (1888--1950), a PhD in the study of algae. Here's a [longer description of the event](https://rss.onlinelibrary.wiley.com/doi/pdf/10.1111/j.1740-9713.2012.00620.x)."
   ]
  },
  {
   "cell_type": "code",
   "execution_count": 6,
   "metadata": {},
   "outputs": [],
   "source": [
    "from collections import Counter\n",
    "import random\n",
    "\n",
    "eight_cups = [1, 1, 0, 0, 1, 0, 1, 0]\n",
    "\n",
    "## Simulate a random guess with an equal number of positives/negatives\n",
    "def guess_equal(correct, print_output=True):\n",
    "    n = len(correct)\n",
    "    \n",
    "    ## Make a copy of the correct list, then shuffle it\n",
    "    guess = list(correct)\n",
    "    random.shuffle(guess)\n",
    "    \n",
    "    if print_output:\n",
    "        print(correct)\n",
    "        print(guess)\n",
    "    \n",
    "    correct_guesses = 0\n",
    "    for i, j in zip(correct, guess):\n",
    "        if i == j:\n",
    "            correct_guesses += 1\n",
    "            \n",
    "    return correct_guesses\n",
    "\n",
    "def guess_randomly(correct, print_output=True):\n",
    "    num_guesses = len(correct)\n",
    "    \n",
    "    ## Simulate purely random guessing\n",
    "    guess = [ random.randint(0,1) for i in range(num_guesses) ]\n",
    "    \n",
    "    print(correct)\n",
    "    print(guess)\n",
    "    \n",
    "    correct_guesses = 0\n",
    "    for i, j in zip(correct, guess):\n",
    "        if i == j:\n",
    "            correct_guesses += 1\n",
    "            \n",
    "    return correct_guesses\n"
   ]
  },
  {
   "cell_type": "markdown",
   "metadata": {},
   "source": [
    "Run the `guess_equal` and `guess_randomly` functions once each. We'll collect the results together."
   ]
  },
  {
   "cell_type": "code",
   "execution_count": null,
   "metadata": {},
   "outputs": [],
   "source": []
  },
  {
   "cell_type": "code",
   "execution_count": null,
   "metadata": {},
   "outputs": [],
   "source": []
  },
  {
   "cell_type": "code",
   "execution_count": 7,
   "metadata": {},
   "outputs": [],
   "source": [
    "## Remember that in Python we can pass a function as an argument!\n",
    "##  This effectively gives a function a new, temporary name.\n",
    "\n",
    "def repeat_experiment(correct, guess_function, num_trials):\n",
    "    results = Counter()\n",
    "    \n",
    "    ## Add code here to run the experiment `num_trials` times and record \n",
    "    ##  the results in `results`.\n",
    "    \n",
    "    return results"
   ]
  },
  {
   "cell_type": "code",
   "execution_count": null,
   "metadata": {},
   "outputs": [],
   "source": [
    "repeat_experiment(eight_cups, guess_equal, 1000)"
   ]
  }
 ],
 "metadata": {
  "kernelspec": {
   "display_name": "Python 3",
   "language": "python",
   "name": "python3"
  },
  "language_info": {
   "codemirror_mode": {
    "name": "ipython",
    "version": 3
   },
   "file_extension": ".py",
   "mimetype": "text/x-python",
   "name": "python",
   "nbconvert_exporter": "python",
   "pygments_lexer": "ipython3",
   "version": "3.6.9"
  }
 },
 "nbformat": 4,
 "nbformat_minor": 2
}
