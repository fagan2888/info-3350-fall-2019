{
 "cells": [
  {
   "cell_type": "markdown",
   "metadata": {},
   "source": [
    "# Last Day Project\n",
    "\n",
    "**On paper, write the thing that you learned in this class that was most interesting or useful**\n",
    "\n",
    "Today we'll do a final review mini-mini-project on Harry Potter novels (just 1-7, no *Cursed Child*). Working with others at your table, use a method that we have previously applied in class to answer a question about this collection of novels. Have a summary of your findings ready around 11:50.\n",
    "\n",
    "The foundation of this class is the \"analytics triangle\" of **questions, methods, and collections**. In this case we are starting from the collection. Be ready to talk about the strenghts and limitations of your approach, and any compromises or trade-offs you made.\n",
    "\n",
    "As always, we want to be thinking about the legal and ethical implications of our work. Harry Potter is the creative work of J.K. Rowling, it is under copyright, and it is commercially valuable. How, if at all, should we use it for text mining purposes? Here is a passage from the summary of opinion of the US Second Circuit Court of Appeals in the case [Authors Guild, Inc. v. Google, Inc](https://en.wikipedia.org/wiki/Authors_Guild,_Inc._v._Google,_Inc.):\n",
    "\n",
    "> Google’s unauthorized digitizing of copyright-protected works, creation of a search functionality, and display of snippets from those works are non-infringing fair uses. The purpose of the copying is highly transformative, the public display of text is limited, and the revelations do not provide a significant market substitute for the protected aspects of the originals. Google’s commercial nature and profit motivation do not justify denial of fair use.\n",
    "\n",
    "Use of copyrighted material for \"non-expressive\", \"non-consumptive\", or \"transformative\" use is generally protected under the doctrine of Fair Use. In this case I have given you text that has been shuffled at the page level, so it will not be readable and certainly does not reduce Rowling's ability to sell books. This is not a random choice: we have 15 million other volumes in this format!\n"
   ]
  }
 ],
 "metadata": {
  "kernelspec": {
   "display_name": "Python 3",
   "language": "python",
   "name": "python3"
  },
  "language_info": {
   "codemirror_mode": {
    "name": "ipython",
    "version": 3
   },
   "file_extension": ".py",
   "mimetype": "text/x-python",
   "name": "python",
   "nbconvert_exporter": "python",
   "pygments_lexer": "ipython3",
   "version": "3.6.9"
  }
 },
 "nbformat": 4,
 "nbformat_minor": 2
}
